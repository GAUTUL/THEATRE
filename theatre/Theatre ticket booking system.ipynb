{
 "cells": [
  {
   "cell_type": "code",
   "execution_count": null,
   "id": "6b501e09",
   "metadata": {},
   "outputs": [
    {
     "name": "stdout",
     "output_type": "stream",
     "text": [
      "Welcome sir! Please choose the type of seats you want to book:\n",
      "1. Normal Seats available=130 (Price: Rs 250)\n",
      "2. Recliner Seats available=20 (Price: Rs 380)\n"
     ]
    }
   ],
   "source": [
    "TOTAL_SEATS = 150\n",
    "NORMAL_SEATS = 130\n",
    "RECLINER_SEATS = 20\n",
    "NORMAL_SEAT_PRICE = 250\n",
    "RECLINER_SEAT_PRICE = 380\n",
    "\n",
    "\n",
    "normal_seats_available = NORMAL_SEATS\n",
    "recliner_seats_available = RECLINER_SEATS\n",
    "total_amount = 0\n",
    "\n",
    "while normal_seats_available > 0 or recliner_seats_available > 0:\n",
    "    \n",
    "    print(\"Welcome sir! Please choose the type of seats you want to book:\")\n",
    "    print(\"1. Normal Seats available=130 (Price: Rs 250)\")\n",
    "    print(\"2. Recliner Seats available=20 (Price: Rs 380)\")\n",
    "    booking_type = int(input(\"Enter your choice (1/2): \"))\n",
    "    \n",
    "    if booking_type == 1 and normal_seats_available == 0:\n",
    "        print(\"Sorry, normal seats are house full\")\n",
    "        continue\n",
    "    elif booking_type == 2 and recliner_seats_available == 0:\n",
    "        print(\"Sorry, recliner seats are house full\")\n",
    "        continue\n",
    "    \n",
    "    num_seats = int(input(\"Enter the number of seats you want to book: \"))\n",
    "    \n",
    "    \n",
    "    if booking_type == 1 and num_seats > normal_seats_available:\n",
    "        print(\"Sorry, seats left only\", normal_seats_available, \"normal seats available.\")\n",
    "        continue\n",
    "    elif booking_type == 2 and num_seats > recliner_seats_available:\n",
    "        print(\"Sorry, seats left only\", recliner_seats_available, \"recliner seats available.\")\n",
    "        continue\n",
    "    \n",
    "    if booking_type == 1:\n",
    "        total_price = num_seats * NORMAL_SEAT_PRICE\n",
    "        normal_seats_available -= num_seats\n",
    "    elif booking_type == 2:\n",
    "        total_price = num_seats * RECLINER_SEAT_PRICE\n",
    "        recliner_seats_available -= num_seats\n",
    "    \n",
    "    print(\"Your total amount is Rs.\", total_price)\n",
    "    total_amount += total_price\n",
    "    \n",
    "    choice = input(\"Do you want to book more tickets? (y/n): \")\n",
    "    if choice == 'n':\n",
    "        break\n",
    "\n",
    "if normal_seats_available == 0 and recliner_seats_available == 0:\n",
    "    print(\"Sorry, the tickets are sold out. House Full!\")\n",
    "print(\"Total amount: Rs.\", total_amount)\n"
   ]
  }
 ],
 "metadata": {
  "kernelspec": {
   "display_name": "Python 3 (ipykernel)",
   "language": "python",
   "name": "python3"
  },
  "language_info": {
   "codemirror_mode": {
    "name": "ipython",
    "version": 3
   },
   "file_extension": ".py",
   "mimetype": "text/x-python",
   "name": "python",
   "nbconvert_exporter": "python",
   "pygments_lexer": "ipython3",
   "version": "3.11.2"
  }
 },
 "nbformat": 4,
 "nbformat_minor": 5
}
